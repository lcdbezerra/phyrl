{
 "cells": [
  {
   "cell_type": "markdown",
   "id": "600b48b8-78c7-4c89-a0e2-cfd98da00edd",
   "metadata": {},
   "source": [
    "# Simple Physics Environment\n",
    "\n",
    "## Data Collection"
   ]
  },
  {
   "cell_type": "code",
   "execution_count": 1,
   "id": "52432c54-4960-4d15-afda-7de0cd6a707e",
   "metadata": {},
   "outputs": [
    {
     "name": "stderr",
     "output_type": "stream",
     "text": [
      "/home/camaral/miniconda3/envs/phyrl/lib/python3.9/site-packages/tqdm/auto.py:22: TqdmWarning: IProgress not found. Please update jupyter and ipywidgets. See https://ipywidgets.readthedocs.io/en/stable/user_install.html\n",
      "  from .autonotebook import tqdm as notebook_tqdm\n"
     ]
    }
   ],
   "source": [
    "import numpy as np\n",
    "import matplotlib.pyplot as plt\n",
    "import gym\n",
    "from gym import spaces\n",
    "from d3rlpy.dataset import MDPDataset\n",
    "\n",
    "from dataset import *"
   ]
  },
  {
   "cell_type": "code",
   "execution_count": 2,
   "id": "d7f38818-eec0-4918-bb2b-58c79eb056f6",
   "metadata": {},
   "outputs": [],
   "source": [
    "env = SimplePhyEnv(x0=np.random.randn(4,1)*2)\n",
    "train_dataloader, test_dataloader = build_dataloader(*build_dataset(env))"
   ]
  },
  {
   "cell_type": "code",
   "execution_count": 6,
   "id": "36e60a90-5ad1-40fc-ba36-7abffc8ea2da",
   "metadata": {},
   "outputs": [
    {
     "name": "stdout",
     "output_type": "stream",
     "text": [
      "torch.Size([32, 5, 2]) torch.Size([32, 5, 2]) torch.Size([32, 5])\n"
     ]
    }
   ],
   "source": [
    "sample = next(iter(train_dataloader))\n",
    "print(sample[0].shape, sample[1].shape, sample[2].shape)"
   ]
  },
  {
   "cell_type": "markdown",
   "id": "05e4c7ef-7974-41ff-8448-693908099a4c",
   "metadata": {},
   "source": [
    "### Model Training"
   ]
  },
  {
   "cell_type": "code",
   "execution_count": null,
   "id": "26220cfd-89a1-4426-8639-4934da8ece38",
   "metadata": {},
   "outputs": [],
   "source": [
    "import torch\n",
    "import torch.autograd as autograd         # computation graph\n",
    "from torch import Tensor                  # tensor node in the computation graph\n",
    "import torch.nn as nn                     # neural networks\n",
    "import torch.optim as optim               # optimizers e.g. gradient descent, ADAM, etc."
   ]
  },
  {
   "cell_type": "code",
   "execution_count": null,
   "id": "94ba5f50-7c52-446f-919c-79b9a591d377",
   "metadata": {},
   "outputs": [],
   "source": []
  },
  {
   "cell_type": "markdown",
   "id": "2bcd0cca-0e89-41dd-8f67-0da5e5eb3218",
   "metadata": {},
   "source": [
    "<hr>"
   ]
  },
  {
   "cell_type": "code",
   "execution_count": 4,
   "id": "14580823-7357-4496-88b3-97eec9bd2cfd",
   "metadata": {},
   "outputs": [],
   "source": [
    "class SimplePhyEnv(gym.Env):\n",
    "    def __init__(self, x0, timestep=1, mass=1):\n",
    "        super(SimplePhyEnv,self).__init__()\n",
    "        \n",
    "        assert(x0.shape == (4,1))\n",
    "        self.x0 = x0\n",
    "        self.ts = timestep\n",
    "        self.m = mass\n",
    "        \n",
    "        self.action_space = spaces.Box(low=-1, high=1,\n",
    "                                       shape=(2,1))\n",
    "        self.observation_space = spaces.Box(low=-np.Inf, high=np.Inf,\n",
    "                                            shape=(2,1))\n",
    "        \n",
    "        # Initial state\n",
    "        self.reset()\n",
    "        # State-space representation\n",
    "        self.A = np.matrix([[0,0,1,0],\n",
    "                            [0,0,0,1],\n",
    "                            [0,0,0,0],\n",
    "                            [0,0,0,0]])\n",
    "        self.B = np.matrix([[0,0],\n",
    "                            [0,0],\n",
    "                            [1/mass,0],\n",
    "                            [0,1/mass]])\n",
    "        \n",
    "    def reset(self, x0=None):\n",
    "        if x0 is None:\n",
    "            self.x = self.x0\n",
    "        else:\n",
    "            self.x = x0\n",
    "        return self.x[:2]\n",
    "    \n",
    "    def step(self, action):\n",
    "        x_dot = self.A*self.x + self.B*np.matrix(action).reshape((2,1))\n",
    "        self.x = self.x + x_dot*self.ts\n",
    "        \n",
    "        rwd = 0\n",
    "        done = False\n",
    "        info = None\n",
    "        return self.x[:2], rwd, done, info"
   ]
  },
  {
   "cell_type": "code",
   "execution_count": 5,
   "id": "962dac25-8606-4f28-a139-5593fb522ae9",
   "metadata": {},
   "outputs": [],
   "source": [
    "x0 = np.matrix([0,0,0,0]).T\n",
    "env = SimplePhyEnv(x0)"
   ]
  },
  {
   "cell_type": "code",
   "execution_count": 7,
   "id": "99b67415-eec3-4ea1-af17-c5416d25f543",
   "metadata": {},
   "outputs": [],
   "source": [
    "from d3rlpy.dataset import MDPDataset\n",
    "\n",
    "N_eps = int(1e3)\n",
    "steps_per_eps = 50\n",
    "\n",
    "observations = np.zeros((N_eps*steps_per_eps, env.observation_space.shape[0]))\n",
    "actions = np.zeros((N_eps*steps_per_eps, env.action_space.shape[0]))\n",
    "rewards = np.zeros((N_eps*steps_per_eps,))\n",
    "terminals = np.zeros((N_eps*steps_per_eps,))\n",
    "\n",
    "for e in range(N_eps):\n",
    "    x0 = np.random.randn(4,1)*2 # std-dev=2\n",
    "    x = env.reset(x0=x0)\n",
    "    for s in range(steps_per_eps):\n",
    "        ind = e*steps_per_eps + s\n",
    "        observations[ind,:] = x.T\n",
    "        \n",
    "        a = env.action_space.sample()\n",
    "        x, r, _, _  = env.step(a)\n",
    "        \n",
    "        actions[ind,:] = a.T\n",
    "        rewards[ind] = r\n",
    "    terminals[ind] = 1"
   ]
  },
  {
   "cell_type": "code",
   "execution_count": 8,
   "id": "1663fc32-9fe8-4d9f-af52-08b5d95d32eb",
   "metadata": {},
   "outputs": [
    {
     "data": {
      "text/plain": [
       "<d3rlpy.dataset.MDPDataset at 0x148231b0dbb0>"
      ]
     },
     "execution_count": 8,
     "metadata": {},
     "output_type": "execute_result"
    }
   ],
   "source": [
    "dataset = MDPDataset(observations, actions, rewards, terminals)\n",
    "dataset"
   ]
  },
  {
   "cell_type": "code",
   "execution_count": 13,
   "id": "dda3b7af-ef7a-421c-be21-8d665cc884e8",
   "metadata": {},
   "outputs": [],
   "source": [
    "dataset.dump('dataset.h5')"
   ]
  },
  {
   "cell_type": "markdown",
   "id": "223944b2-86b6-4496-bee5-737ba516f17f",
   "metadata": {},
   "source": [
    "# Train Model"
   ]
  },
  {
   "cell_type": "code",
   "execution_count": null,
   "id": "0d3c2fd9-eac1-4c4e-ae02-e8add2a449d4",
   "metadata": {},
   "outputs": [],
   "source": [
    "import torch\n",
    "import torch.nn as nn\n",
    "import torch.nn.functional as F"
   ]
  },
  {
   "cell_type": "code",
   "execution_count": 14,
   "id": "8d6760df-7a0b-43fe-9f12-50ddfc9513f9",
   "metadata": {},
   "outputs": [],
   "source": [
    "dataset = MDPDataset.load('dataset.h5')\n",
    "\n",
    "batch_sz = 128\n",
    "frames_per_sample = 8\n",
    "obs_sz = 2"
   ]
  },
  {
   "cell_type": "code",
   "execution_count": 15,
   "id": "f0b07c4b-0114-4dd7-b281-6fed0742b44d",
   "metadata": {},
   "outputs": [
    {
     "data": {
      "text/plain": [
       "['__class__',\n",
       " '__delattr__',\n",
       " '__dict__',\n",
       " '__dir__',\n",
       " '__doc__',\n",
       " '__eq__',\n",
       " '__format__',\n",
       " '__ge__',\n",
       " '__getattribute__',\n",
       " '__getitem__',\n",
       " '__gt__',\n",
       " '__hash__',\n",
       " '__init__',\n",
       " '__init_subclass__',\n",
       " '__iter__',\n",
       " '__le__',\n",
       " '__len__',\n",
       " '__lt__',\n",
       " '__module__',\n",
       " '__ne__',\n",
       " '__new__',\n",
       " '__reduce__',\n",
       " '__reduce_ex__',\n",
       " '__repr__',\n",
       " '__setattr__',\n",
       " '__sizeof__',\n",
       " '__str__',\n",
       " '__subclasshook__',\n",
       " '__weakref__',\n",
       " '_actions',\n",
       " '_as_tensor',\n",
       " '_device',\n",
       " '_episodes',\n",
       " '_observations',\n",
       " '_rewards',\n",
       " '_terminals',\n",
       " 'actions',\n",
       " 'append',\n",
       " 'as_tensor',\n",
       " 'build_episodes',\n",
       " 'clip_reward',\n",
       " 'compute_stats',\n",
       " 'device',\n",
       " 'discrete_action',\n",
       " 'dump',\n",
       " 'episodes',\n",
       " 'extend',\n",
       " 'get_action_size',\n",
       " 'get_observation_shape',\n",
       " 'is_action_discrete',\n",
       " 'load',\n",
       " 'observations',\n",
       " 'rewards',\n",
       " 'size',\n",
       " 'terminals']"
      ]
     },
     "execution_count": 15,
     "metadata": {},
     "output_type": "execute_result"
    }
   ],
   "source": [
    "dir(dataset)"
   ]
  },
  {
   "cell_type": "code",
   "execution_count": 17,
   "id": "49700a7e-7de9-4973-93e8-31bd081bc544",
   "metadata": {},
   "outputs": [
    {
     "data": {
      "text/plain": [
       "1000"
      ]
     },
     "execution_count": 17,
     "metadata": {},
     "output_type": "execute_result"
    }
   ],
   "source": []
  },
  {
   "cell_type": "code",
   "execution_count": null,
   "id": "448096b7-e283-411e-9438-e127e0bfae6c",
   "metadata": {},
   "outputs": [],
   "source": [
    "model = nn.Sequential(\n",
    "            nn.Linear(obs_sz*frames_per_sample, "
   ]
  },
  {
   "cell_type": "code",
   "execution_count": 235,
   "id": "02f42825-c3a8-4c7a-abc6-a848f4dad574",
   "metadata": {},
   "outputs": [
    {
     "name": "stdout",
     "output_type": "stream",
     "text": [
      "[0.38725169 0.13980766 0.9913461  0.68235295 0.93411169 0.19657822\n",
      " 0.05354314 0.16386339 0.40950056 0.65615745 0.48569816 0.77860426\n",
      " 0.93033426 0.98230863 0.49830513 0.44892168 0.57741453 0.43072029\n",
      " 0.00191362 0.44433474 0.2680092  0.77339028 0.59809755 0.0543112\n",
      " 0.87052729 0.77951872 0.03832554 0.47979715 0.29984391 0.70744256\n",
      " 0.74544015 0.38823563 0.89027549 0.53847151 0.86108959 0.01240407\n",
      " 0.52680645 0.85495319 0.69389207 0.7632495  0.92638564 0.63748443\n",
      " 0.27793485 0.30904832 0.272705   0.54509637 0.22974155 0.13734808\n",
      " 0.29386325 0.53909711 0.73302408 0.54726903 0.60341151 0.53949948\n",
      " 0.51325103 0.21404141 0.08935906 0.85998669 0.15331682 0.13464584\n",
      " 0.01559496 0.24624982 0.851238   0.91584756 0.85621223 0.81535221\n",
      " 0.47779427 0.55991879 0.26435169 0.08022742 0.71685683 0.84637397\n",
      " 0.86768988 0.01429139 0.00901482 0.24262108 0.3460559  0.44222129\n",
      " 0.17948539 0.92131688 0.72388276 0.45755694 0.43452505 0.73885044\n",
      " 0.22509168 0.22554991 0.59420081 0.24962606 0.02371849 0.13147517\n",
      " 0.12382998 0.75225065 0.0748826  0.24073272 0.49690713 0.01869698\n",
      " 0.05460072 0.71850293 0.47775176 0.0831815 ]\n",
      "[0.33027408 0.55669457 0.40252146 0.54512942]\n",
      "0.5195607163327778\n",
      "[0.45119957 0.45898563 0.72471745 0.81574453 0.60855135 0.22054692\n",
      " 0.31056821 0.22103522 0.26909172 0.43534016 0.48904465 0.77113\n",
      " 0.63468883 0.18896424 0.36868975 0.01942135 0.94656552 0.65166875\n",
      " 0.72393994 0.14185318 0.46012928 0.15067426 0.23501316 0.14654192\n",
      " 0.20826417 0.01420083 0.56353199 0.61806611 0.08250634 0.8850362\n",
      " 0.93816982 0.24798989 0.7902311  0.83292757 0.27351978 0.57054859\n",
      " 0.81622074 0.88426764 0.24468316 0.21804487 0.1417608  0.93443325\n",
      " 0.33627554 0.67632403 0.22834859 0.04333834 0.1963454  0.74328418\n",
      " 0.73205144 0.76504597 0.65315015 0.2350368  0.61921461 0.22874601\n",
      " 0.71883153 0.49166233 0.65660192 0.21583302 0.39718661 0.31521082\n",
      " 0.41065981 0.11443279 0.29021172 0.19303545 0.10274404 0.06229623\n",
      " 0.59243158 0.52254235 0.55836994 0.73799264 0.80153435 0.23398001\n",
      " 0.62777153 0.37046502 0.97432178 0.22298274 0.71707351 0.42136427\n",
      " 0.35153823 0.35350918 0.88372751 0.63235698 0.04759688 0.52094929\n",
      " 0.42409661 0.28046825 0.12188356 0.99575725 0.58887717 0.59870824\n",
      " 0.14638915 0.68392465 0.49479226 0.39067088 0.11787404 0.56403438\n",
      " 0.69459868 0.94056347 0.96609698 0.25651573]\n",
      "1.0\n"
     ]
    }
   ],
   "source": [
    "# each episode is also splitted into d3rlpy.dataset.Transition objects\n",
    "i = 0\n",
    "while True:\n",
    "    episode = dataset.episodes[i]\n",
    "    try:\n",
    "        episode[0].observation\n",
    "    except:\n",
    "        i += 1\n",
    "        continue\n",
    "    break\n",
    "print(episode[0].observation)\n",
    "print(episode[0].action)\n",
    "print(episode[0].next_reward)\n",
    "print(episode[0].next_observation)\n",
    "print(episode[0].terminal)\n",
    "\n",
    "# d3rlpy.dataset.Transition object has pointers to previous and next\n",
    "# transitions like linked list.\n",
    "transition = episode[0]\n",
    "while transition.next_transition:\n",
    "    transition = transition.next_transition\n",
    "\n",
    "# save as HDF5\n",
    "dataset.dump('dataset.h5')\n",
    "\n",
    "# load from HDF5\n",
    "new_dataset = MDPDataset.load('dataset.h5')"
   ]
  },
  {
   "cell_type": "code",
   "execution_count": 146,
   "id": "a77f1dd5-c6ee-4f25-b22b-965c8c268992",
   "metadata": {},
   "outputs": [],
   "source": [
    "x0 = np.matrix([0,0,0,0]).T\n",
    "env = SimplePhyEnv(x0)"
   ]
  },
  {
   "cell_type": "code",
   "execution_count": 186,
   "id": "db116548-2d9d-418c-ad6a-a31c9b44d2d6",
   "metadata": {},
   "outputs": [
    {
     "data": {
      "text/plain": [
       "matrix([[ 6294.76273262],\n",
       "        [10651.2277126 ]])"
      ]
     },
     "execution_count": 186,
     "metadata": {},
     "output_type": "execute_result"
    }
   ],
   "source": [
    "env.reset()\n",
    "N = int(10)\n",
    "for i in range(N):\n",
    "    env.step(env.action_space.sample())\n",
    "env.x[:2]"
   ]
  },
  {
   "cell_type": "code",
   "execution_count": 148,
   "id": "eecc1542-c35e-4cae-8232-c9bf63c3bc8f",
   "metadata": {},
   "outputs": [
    {
     "data": {
      "image/png": "[encoded data removed]",
      "text/plain": [
       "<Figure size 432x288 with 1 Axes>"
      ]
     },
     "metadata": {
      "needs_background": "light"
     },
     "output_type": "display_data"
    }
   ],
   "source": [
    "N = int(1e3)\n",
    "x = np.zeros((N,2))\n",
    "for i in range(N):\n",
    "    x[i,:] = env.action_space.sample().reshape((-1,))\n",
    "plt.scatter(x[:,0],x[:,1]);"
   ]
  },
  {
   "cell_type": "code",
   "execution_count": null,
   "id": "3a7d6084-414e-404f-bc3d-2041ec6a8ac7",
   "metadata": {},
   "outputs": [],
   "source": []
  }
 ],
 "metadata": {
  "kernelspec": {
   "display_name": "Python 3 (ipykernel)",
   "language": "python",
   "name": "python3"
  },
  "language_info": {
   "codemirror_mode": {
    "name": "ipython",
    "version": 3
   },
   "file_extension": ".py",
   "mimetype": "text/x-python",
   "name": "python",
   "nbconvert_exporter": "python",
   "pygments_lexer": "ipython3",
   "version": "3.9.7"
  }
 },
 "nbformat": 4,
 "nbformat_minor": 5
}
